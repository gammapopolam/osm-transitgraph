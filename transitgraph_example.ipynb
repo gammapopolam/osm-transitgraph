{
 "cells": [
  {
   "cell_type": "code",
   "execution_count": 1,
   "metadata": {},
   "outputs": [
    {
     "name": "stdout",
     "output_type": "stream",
     "text": [
      "831 1981\n",
      "292 518\n",
      "264 326\n"
     ]
    }
   ],
   "source": [
    "from TransitGraphStatic import TransitGraph, EnhTransitGraph\n",
    "\n",
    "tram=TransitGraph(trips=r\"D:\\osm2gtfs\\ru_mow_osmgrabber\\tram_trips.json\", stops=r\"D:\\osm2gtfs\\ru_mow_osmgrabber\\tram_stops.json\", s2s=r\"D:\\osm2gtfs\\ru_mow_osmgrabber\\tram_s2s.json\", speed=21, type='tram')\n",
    "print(len(tram.graph.nodes()), len(tram.graph.edges()))\n",
    "subway=TransitGraph(trips=r\"D:\\osm2gtfs\\ru_mow_osmgrabber\\subway_trips.json\", stops=r\"D:\\osm2gtfs\\ru_mow_osmgrabber\\subway_stops.json\", s2s=r\"D:\\osm2gtfs\\ru_mow_osmgrabber\\subway_s2s.json\", speed=30, type='subway')\n",
    "print(len(subway.graph.nodes()), len(subway.graph.edges()))\n",
    "commuter=TransitGraph(trips=r\"D:\\osm2gtfs\\ru_mow_osmgrabber\\commuter_trips.json\", stops=r\"D:\\osm2gtfs\\ru_mow_osmgrabber\\commuter_stops.json\", s2s=r\"D:\\osm2gtfs\\ru_mow_osmgrabber\\commuter_s2s.json\", speed=35, type='commuter')\n",
    "print(len(commuter.graph.nodes()), len(commuter.graph.edges()))"
   ]
  },
  {
   "cell_type": "code",
   "execution_count": 2,
   "metadata": {},
   "outputs": [],
   "source": [
    "from TransitGraphStatic import PedestrianGraph\n",
    "pedestrian=PedestrianGraph(r'D:\\capitals_accessibility\\moscow-latest.osm.pbf').graph"
   ]
  },
  {
   "cell_type": "code",
   "execution_count": 3,
   "metadata": {},
   "outputs": [
    {
     "name": "stdout",
     "output_type": "stream",
     "text": [
      "6748815 997692\n"
     ]
    }
   ],
   "source": [
    "print(len(pedestrian.nodes()), len(pedestrian.edges()))"
   ]
  },
  {
   "cell_type": "code",
   "execution_count": 4,
   "metadata": {},
   "outputs": [
    {
     "data": {
      "text/plain": [
       "(55.9951147, 37.2075319)"
      ]
     },
     "execution_count": 4,
     "metadata": {},
     "output_type": "execute_result"
    }
   ],
   "source": [
    "pedestrian.nodes()[0]"
   ]
  },
  {
   "cell_type": "code",
   "execution_count": 5,
   "metadata": {},
   "outputs": [
    {
     "name": "stdout",
     "output_type": "stream",
     "text": [
      "2\n",
      "6750202 1003291\n"
     ]
    }
   ],
   "source": [
    "from TransitGraphStatic import EnhTransitGraph\n",
    "enh=EnhTransitGraph([commuter.graph, tram.graph, subway.graph], pedestrian=pedestrian)\n",
    "print(len(enh.graph.nodes()), len(enh.graph.edges()))"
   ]
  },
  {
   "cell_type": "code",
   "execution_count": null,
   "metadata": {},
   "outputs": [],
   "source": [
    "cycling_edges=[enh.graph.get_edge_data(*e) for e in enh.graph.edge_list() if 'type' not in enh.graph.get_edge_data(*e)]\n",
    "cycling_edges"
   ]
  },
  {
   "cell_type": "code",
   "execution_count": null,
   "metadata": {},
   "outputs": [],
   "source": [
    "print(pedestrian.nodes()[0])"
   ]
  },
  {
   "cell_type": "code",
   "execution_count": null,
   "metadata": {},
   "outputs": [],
   "source": [
    "cycling_nodes=[enh.graph.get_node_data(n) for n in enh.graph.node_indexes() if 'type' not in enh.graph.get_node_data(n)]\n",
    "cycling_nodes"
   ]
  },
  {
   "cell_type": "code",
   "execution_count": null,
   "metadata": {},
   "outputs": [],
   "source": [
    "print(tram.graph.edge_list())"
   ]
  },
  {
   "cell_type": "code",
   "execution_count": null,
   "metadata": {},
   "outputs": [],
   "source": [
    "import geopandas as gpd\n",
    "import pandas as pd\n",
    "import shapely\n",
    "route=[]\n",
    "\n",
    "stations=[]\n",
    "for node in subway.graph.node_indices():\n",
    "    data=subway.graph[node]\n",
    "    data['node_idx']=node\n",
    "    stations.append(data)\n",
    "for node in tram.graph.node_indices():\n",
    "    data=tram.graph[node]\n",
    "    data['node_idx']=node\n",
    "    stations.append(data)\n",
    "for node in commuter.graph.node_indices():\n",
    "    data=commuter.graph[node]\n",
    "    data['node_idx']=node\n",
    "    stations.append(data)\n",
    "stations_gdf=gpd.GeoDataFrame(stations)\n",
    "stations_gdf['geom']=stations_gdf['geom'].apply(lambda x: shapely.from_wkt(x))\n",
    "stations_gdf.set_geometry('geom', crs='EPSG:4326', inplace=True)\n",
    "\n",
    "for edge in subway.graph.edge_list():\n",
    "    #if subway.graph.get_edge_data(*edge)['ref']=='1':\n",
    "    route.append(subway.graph.get_edge_data(*edge))\n",
    "for edge in tram.graph.edge_list():\n",
    "    #if subway.graph.get_edge_data(*edge)['ref']=='1':\n",
    "    route.append(tram.graph.get_edge_data(*edge))\n",
    "for edge in commuter.graph.edge_list():\n",
    "    #if subway.graph.get_edge_data(*edge)['ref']=='1':\n",
    "    route.append(commuter.graph.get_edge_data(*edge))\n",
    "route_gdf=gpd.GeoDataFrame(route)\n",
    "route_gdf['geom']=route_gdf['geom'].apply(lambda x: shapely.from_wkt(x))\n",
    "route_gdf.set_geometry('geom', crs='EPSG:4326', inplace=True)\n",
    "\n",
    "route_gdf.explore('traveltime')"
   ]
  },
  {
   "cell_type": "code",
   "execution_count": null,
   "metadata": {},
   "outputs": [],
   "source": [
    "d4_edges=[commuter.graph.get_edge_data(*d4_e) for d4_e in commuter.graph.edge_list() if commuter.graph.get_edge_data(*d4_e)['ref']=='D4']\n",
    "d4_edges"
   ]
  },
  {
   "cell_type": "code",
   "execution_count": null,
   "metadata": {},
   "outputs": [],
   "source": [
    "d4_edges=[enh.graph.get_edge_data(*d4_e) for d4_e in enh.graph.edge_list() if enh.graph.get_edge_data(*d4_e)['ref']=='D4']\n",
    "d4_edges"
   ]
  },
  {
   "cell_type": "code",
   "execution_count": null,
   "metadata": {},
   "outputs": [],
   "source": [
    "print(len(subway.graph.nodes()), len(subway.graph.edges()))\n",
    "print(len(commuter.graph.nodes()), len(commuter.graph.edges()))\n",
    "print(len(tram.graph.nodes()), len(tram.graph.edges()))"
   ]
  },
  {
   "cell_type": "code",
   "execution_count": null,
   "metadata": {},
   "outputs": [],
   "source": [
    "print(len(enh.graph.nodes()), len(enh.graph.edges()))"
   ]
  },
  {
   "cell_type": "code",
   "execution_count": null,
   "metadata": {},
   "outputs": [],
   "source": [
    "import geopandas as gpd\n",
    "import pandas as pd\n",
    "import shapely\n",
    "route=[]\n",
    "\n",
    "stations=[]\n",
    "for node in enh.graph.node_indices():\n",
    "    data=enh.graph[node]\n",
    "    data['node_idx']=node\n",
    "    stations.append(data)\n",
    "\n",
    "stations_gdf=gpd.GeoDataFrame(stations)\n",
    "stations_gdf['geom']=stations_gdf['geom'].apply(lambda x: shapely.from_wkt(x))\n",
    "stations_gdf.set_geometry('geom', crs='EPSG:4326', inplace=True)\n",
    "\n",
    "for edge in enh.graph.edge_list():\n",
    "    route.append(enh.graph.get_edge_data(*edge))\n",
    "\n",
    "route_gdf=gpd.GeoDataFrame(route)\n",
    "route_gdf['geom']=route_gdf['geom'].apply(lambda x: shapely.from_wkt(x))\n",
    "route_gdf.set_geometry('geom', crs='EPSG:4326', inplace=True)\n",
    "\n",
    "route_gdf.plot('type')"
   ]
  },
  {
   "cell_type": "code",
   "execution_count": null,
   "metadata": {},
   "outputs": [],
   "source": [
    "stations_gdf.explore()"
   ]
  },
  {
   "cell_type": "code",
   "execution_count": null,
   "metadata": {},
   "outputs": [],
   "source": [
    "import rustworkx as rx\n",
    "start = 215\n",
    "end = 238\n",
    "path=rx.dijkstra_shortest_paths(enh.graph, start, end)\n",
    "#print(next(path.keys()))\n",
    "print(path)\n",
    "path_edges=[]\n",
    "total_time=0\n",
    "for node_i in range(len(path[end])-1):\n",
    "    node_now=path[end][node_i]\n",
    "    node_next=path[end][node_i+1]\n",
    "    edge=enh.graph.get_edge_data(node_now, node_next)\n",
    "    print(enh.graph[node_now]['name'], ' - ', enh.graph[node_next]['name'])\n",
    "    print(edge['traveltime'])\n",
    "    total_time+=edge['traveltime']\n",
    "    #edge_attr=subway_graph.edges()[edge]\n",
    "    #total_time+=edge_attr\n",
    "    #edge_geom=next((s2s_e for s2s_e in s2s if s2s_e['edge_idx'] == edge), None)\n",
    "    #node_inf=next((stop for stop in stops if stop['node_idx'] == node), None)\n",
    "    \n",
    "    #print(node_inf)\n",
    "    #print(edge_attr)\n",
    "    path_edges.append(shapely.from_wkt(edge['geom']))\n",
    "print('Total travel time:', total_time)"
   ]
  },
  {
   "cell_type": "code",
   "execution_count": null,
   "metadata": {},
   "outputs": [],
   "source": [
    "path_edges"
   ]
  },
  {
   "cell_type": "code",
   "execution_count": null,
   "metadata": {},
   "outputs": [],
   "source": [
    "route_gdf"
   ]
  },
  {
   "cell_type": "code",
   "execution_count": null,
   "metadata": {},
   "outputs": [],
   "source": [
    "print(enh.graph.edge_list())"
   ]
  },
  {
   "cell_type": "code",
   "execution_count": null,
   "metadata": {},
   "outputs": [],
   "source": [
    "print(enh.graph.node_indexes())"
   ]
  },
  {
   "cell_type": "code",
   "execution_count": null,
   "metadata": {},
   "outputs": [],
   "source": [
    "def raptor(graph, source, target, max_rounds):\n",
    "    \"\"\"\n",
    "    Ищет маршруты от source до target с использованием RAPTOR.\n",
    "    \n",
    "    :param source: Начальная остановка\n",
    "    :param target: Конечная остановка\n",
    "    :param max_rounds: Максимальное число раундов для поиска\n",
    "    :return: Кратчайшие пути с минимальным количеством пересадок\n",
    "    \"\"\"\n",
    "    # Инициализация\n",
    "    earliest_arrival = {stop: float('inf') for stop in graph.node_indexes()}\n",
    "    earliest_arrival[source] = 0\n",
    "\n",
    "    marked_stops = set()\n",
    "    marked_stops.add(source)\n",
    "\n",
    "    journeys = []  # Список найденных маршрутов\n",
    "    paths = {stop: [] for stop in graph.node_indexes()}  # Хранит путь до каждой остановки\n",
    "    paths[source] = [(None, source)]  # Начинаем с исходной остановки\n",
    "\n",
    "    for round_number in range(max_rounds):\n",
    "        # Для каждого раунда инициализируем набор измененных остановок\n",
    "        updated_stops = set()\n",
    "        \n",
    "        for stop in marked_stops:\n",
    "            # Для каждой остановки проверяем все маршруты, которые через неё проходят\n",
    "            for neighbor in graph.neighbors(stop):\n",
    "                edge_data = graph.get_edge_data(stop, neighbor)\n",
    "                edge_type = edge_data['type']\n",
    "\n",
    "                if edge_type in ('interchange', 'ginterchange'):\n",
    "                    route = f'ic_{round_number}'\n",
    "                else:\n",
    "                    route = edge_data['trip_id']\n",
    "\n",
    "                if earliest_arrival[neighbor] > earliest_arrival[stop] + 1:\n",
    "                    earliest_arrival[neighbor] = earliest_arrival[stop] + 1\n",
    "                    updated_stops.add(neighbor)\n",
    "\n",
    "                    # Обновляем путь до остановки\n",
    "                    paths[neighbor] = paths[stop] + [(route, neighbor)]\n",
    "\n",
    "                    if neighbor == target:\n",
    "                        # Сохраняем найденный маршрут\n",
    "                        journeys.append(paths[neighbor])\n",
    "\n",
    "        # Обновляем список остановок для следующего раунда\n",
    "        marked_stops = updated_stops\n",
    "    \n",
    "    print(marked_stops)\n",
    "    return journeys\n",
    "\n",
    "journey = raptor(enh.graph, 544, 543, 8)\n",
    "print(\"Найденные маршруты:\")\n",
    "for path in journey:\n",
    "    for node in path:\n",
    "        print(enh.graph[node[1]])\n"
   ]
  },
  {
   "cell_type": "code",
   "execution_count": null,
   "metadata": {},
   "outputs": [],
   "source": [
    "import rustworkx as rx\n",
    "start = 100\n",
    "end = 1\n",
    "path=rx.dijkstra_shortest_paths(subway.graph, start, end)\n",
    "#print(next(path.keys()))\n",
    "print(path)\n",
    "path_edges=[]\n",
    "total_time=0\n",
    "for node_i in range(len(path[end])-1):\n",
    "    node_now=path[end][node_i]\n",
    "    node_next=path[end][node_i+1]\n",
    "    edge=subway.graph.get_edge_data(node_now, node_next)\n",
    "    print(subway.graph[node_now]['name'], ' - ', subway.graph[node_next]['name'])\n",
    "    print(edge['traveltime'])\n",
    "    total_time+=edge['traveltime']\n",
    "    #edge_attr=subway_graph.edges()[edge]\n",
    "    #total_time+=edge_attr\n",
    "    #edge_geom=next((s2s_e for s2s_e in s2s if s2s_e['edge_idx'] == edge), None)\n",
    "    #node_inf=next((stop for stop in stops if stop['node_idx'] == node), None)\n",
    "    \n",
    "    #print(node_inf)\n",
    "    #print(edge_attr)\n",
    "    #path_edges.append()\n",
    "print(total_time)"
   ]
  },
  {
   "cell_type": "code",
   "execution_count": null,
   "metadata": {},
   "outputs": [],
   "source": [
    "print(subway.graph[200])"
   ]
  },
  {
   "cell_type": "code",
   "execution_count": null,
   "metadata": {},
   "outputs": [],
   "source": []
  }
 ],
 "metadata": {
  "kernelspec": {
   "display_name": "Python 3",
   "language": "python",
   "name": "python3"
  },
  "language_info": {
   "codemirror_mode": {
    "name": "ipython",
    "version": 3
   },
   "file_extension": ".py",
   "mimetype": "text/x-python",
   "name": "python",
   "nbconvert_exporter": "python",
   "pygments_lexer": "ipython3",
   "version": "3.12.1"
  }
 },
 "nbformat": 4,
 "nbformat_minor": 2
}
